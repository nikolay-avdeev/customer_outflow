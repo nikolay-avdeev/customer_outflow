{
 "cells": [
  {
   "cell_type": "markdown",
   "metadata": {
    "toc": true
   },
   "source": [
    "<h1>Содержание<span class=\"tocSkip\"></span></h1>\n",
    "<div class=\"toc\"><ul class=\"toc-item\"><li><span><a href=\"#Подготовка-данных\" data-toc-modified-id=\"Подготовка-данных-1\"><span class=\"toc-item-num\">1&nbsp;&nbsp;</span>Подготовка данных</a></span></li><li><span><a href=\"#Исследование-задачи\" data-toc-modified-id=\"Исследование-задачи-2\"><span class=\"toc-item-num\">2&nbsp;&nbsp;</span>Исследование задачи</a></span><ul class=\"toc-item\"><li><span><a href=\"#Стандартизируем-тестовую-и-валидную-выборку\" data-toc-modified-id=\"Стандартизируем-тестовую-и-валидную-выборку-2.1\"><span class=\"toc-item-num\">2.1&nbsp;&nbsp;</span>Стандартизируем тестовую и валидную выборку</a></span></li><li><span><a href=\"#Дерево-решений\" data-toc-modified-id=\"Дерево-решений-2.2\"><span class=\"toc-item-num\">2.2&nbsp;&nbsp;</span>Дерево решений</a></span></li><li><span><a href=\"#Случайный-лес\" data-toc-modified-id=\"Случайный-лес-2.3\"><span class=\"toc-item-num\">2.3&nbsp;&nbsp;</span>Случайный лес</a></span></li><li><span><a href=\"#Логистическая-регрессия\" data-toc-modified-id=\"Логистическая-регрессия-2.4\"><span class=\"toc-item-num\">2.4&nbsp;&nbsp;</span>Логистическая регрессия</a></span></li></ul></li><li><span><a href=\"#Борьба-с-дисбалансом\" data-toc-modified-id=\"Борьба-с-дисбалансом-3\"><span class=\"toc-item-num\">3&nbsp;&nbsp;</span>Борьба с дисбалансом</a></span></li><li><span><a href=\"#Тестирование-модели\" data-toc-modified-id=\"Тестирование-модели-4\"><span class=\"toc-item-num\">4&nbsp;&nbsp;</span>Тестирование модели</a></span><ul class=\"toc-item\"><li><span><a href=\"#Дерево-решения\" data-toc-modified-id=\"Дерево-решения-4.1\"><span class=\"toc-item-num\">4.1&nbsp;&nbsp;</span>Дерево решения</a></span></li><li><span><a href=\"#Случайный-лес\" data-toc-modified-id=\"Случайный-лес-4.2\"><span class=\"toc-item-num\">4.2&nbsp;&nbsp;</span>Случайный лес</a></span></li><li><span><a href=\"#Логистическая-регрессия\" data-toc-modified-id=\"Логистическая-регрессия-4.3\"><span class=\"toc-item-num\">4.3&nbsp;&nbsp;</span>Логистическая регрессия</a></span></li></ul></li><li><span><a href=\"#Чек-лист-готовности-проекта\" data-toc-modified-id=\"Чек-лист-готовности-проекта-5\"><span class=\"toc-item-num\">5&nbsp;&nbsp;</span>Чек-лист готовности проекта</a></span></li></ul></div>"
   ]
  },
  {
   "cell_type": "markdown",
   "metadata": {},
   "source": [
    "# Отток клиентов"
   ]
  },
  {
   "cell_type": "markdown",
   "metadata": {},
   "source": [
    "Из «Бета-Банка» стали уходить клиенты. Каждый месяц. Немного, но заметно. Банковские маркетологи посчитали: сохранять текущих клиентов дешевле, чем привлекать новых.\n",
    "\n",
    "Нужно спрогнозировать, уйдёт клиент из банка в ближайшее время или нет. Вам предоставлены исторические данные о поведении клиентов и расторжении договоров с банком. \n",
    "\n",
    "Постройте модель с предельно большим значением *F1*-меры. Чтобы сдать проект успешно, нужно довести метрику до 0.59. Проверьте *F1*-меру на тестовой выборке самостоятельно.\n",
    "\n",
    "Дополнительно измеряйте *AUC-ROC*, сравнивайте её значение с *F1*-мерой.\n",
    "\n",
    "Источник данных: [https://www.kaggle.com/barelydedicated/bank-customer-churn-modeling](https://www.kaggle.com/barelydedicated/bank-customer-churn-modeling)"
   ]
  },
  {
   "cell_type": "markdown",
   "metadata": {},
   "source": [
    "## Подготовка данных"
   ]
  },
  {
   "cell_type": "code",
   "execution_count": 1,
   "metadata": {},
   "outputs": [],
   "source": [
    "import pandas as pd\n",
    "import matplotlib.pyplot as plt\n",
    "import numpy as np\n",
    "from sklearn.tree import DecisionTreeClassifier\n",
    "from sklearn.ensemble import RandomForestClassifier\n",
    "from sklearn.linear_model import LogisticRegression\n",
    "from sklearn.model_selection import train_test_split\n",
    "from sklearn.preprocessing import OrdinalEncoder\n",
    "from sklearn.preprocessing import StandardScaler\n",
    "from sklearn.metrics import f1_score\n",
    "from sklearn.utils import shuffle\n",
    "from sklearn.metrics import roc_curve\n",
    "from sklearn.metrics import roc_auc_score"
   ]
  },
  {
   "cell_type": "code",
   "execution_count": 2,
   "metadata": {},
   "outputs": [],
   "source": [
    "data = pd.read_csv('/datasets/Churn.csv')"
   ]
  },
  {
   "cell_type": "code",
   "execution_count": 3,
   "metadata": {},
   "outputs": [
    {
     "data": {
      "text/html": [
       "<div>\n",
       "<style scoped>\n",
       "    .dataframe tbody tr th:only-of-type {\n",
       "        vertical-align: middle;\n",
       "    }\n",
       "\n",
       "    .dataframe tbody tr th {\n",
       "        vertical-align: top;\n",
       "    }\n",
       "\n",
       "    .dataframe thead th {\n",
       "        text-align: right;\n",
       "    }\n",
       "</style>\n",
       "<table border=\"1\" class=\"dataframe\">\n",
       "  <thead>\n",
       "    <tr style=\"text-align: right;\">\n",
       "      <th></th>\n",
       "      <th>RowNumber</th>\n",
       "      <th>CustomerId</th>\n",
       "      <th>Surname</th>\n",
       "      <th>CreditScore</th>\n",
       "      <th>Geography</th>\n",
       "      <th>Gender</th>\n",
       "      <th>Age</th>\n",
       "      <th>Tenure</th>\n",
       "      <th>Balance</th>\n",
       "      <th>NumOfProducts</th>\n",
       "      <th>HasCrCard</th>\n",
       "      <th>IsActiveMember</th>\n",
       "      <th>EstimatedSalary</th>\n",
       "      <th>Exited</th>\n",
       "    </tr>\n",
       "  </thead>\n",
       "  <tbody>\n",
       "    <tr>\n",
       "      <th>0</th>\n",
       "      <td>1</td>\n",
       "      <td>15634602</td>\n",
       "      <td>Hargrave</td>\n",
       "      <td>619</td>\n",
       "      <td>France</td>\n",
       "      <td>Female</td>\n",
       "      <td>42</td>\n",
       "      <td>2.0</td>\n",
       "      <td>0.00</td>\n",
       "      <td>1</td>\n",
       "      <td>1</td>\n",
       "      <td>1</td>\n",
       "      <td>101348.88</td>\n",
       "      <td>1</td>\n",
       "    </tr>\n",
       "    <tr>\n",
       "      <th>1</th>\n",
       "      <td>2</td>\n",
       "      <td>15647311</td>\n",
       "      <td>Hill</td>\n",
       "      <td>608</td>\n",
       "      <td>Spain</td>\n",
       "      <td>Female</td>\n",
       "      <td>41</td>\n",
       "      <td>1.0</td>\n",
       "      <td>83807.86</td>\n",
       "      <td>1</td>\n",
       "      <td>0</td>\n",
       "      <td>1</td>\n",
       "      <td>112542.58</td>\n",
       "      <td>0</td>\n",
       "    </tr>\n",
       "    <tr>\n",
       "      <th>2</th>\n",
       "      <td>3</td>\n",
       "      <td>15619304</td>\n",
       "      <td>Onio</td>\n",
       "      <td>502</td>\n",
       "      <td>France</td>\n",
       "      <td>Female</td>\n",
       "      <td>42</td>\n",
       "      <td>8.0</td>\n",
       "      <td>159660.80</td>\n",
       "      <td>3</td>\n",
       "      <td>1</td>\n",
       "      <td>0</td>\n",
       "      <td>113931.57</td>\n",
       "      <td>1</td>\n",
       "    </tr>\n",
       "    <tr>\n",
       "      <th>3</th>\n",
       "      <td>4</td>\n",
       "      <td>15701354</td>\n",
       "      <td>Boni</td>\n",
       "      <td>699</td>\n",
       "      <td>France</td>\n",
       "      <td>Female</td>\n",
       "      <td>39</td>\n",
       "      <td>1.0</td>\n",
       "      <td>0.00</td>\n",
       "      <td>2</td>\n",
       "      <td>0</td>\n",
       "      <td>0</td>\n",
       "      <td>93826.63</td>\n",
       "      <td>0</td>\n",
       "    </tr>\n",
       "    <tr>\n",
       "      <th>4</th>\n",
       "      <td>5</td>\n",
       "      <td>15737888</td>\n",
       "      <td>Mitchell</td>\n",
       "      <td>850</td>\n",
       "      <td>Spain</td>\n",
       "      <td>Female</td>\n",
       "      <td>43</td>\n",
       "      <td>2.0</td>\n",
       "      <td>125510.82</td>\n",
       "      <td>1</td>\n",
       "      <td>1</td>\n",
       "      <td>1</td>\n",
       "      <td>79084.10</td>\n",
       "      <td>0</td>\n",
       "    </tr>\n",
       "  </tbody>\n",
       "</table>\n",
       "</div>"
      ],
      "text/plain": [
       "   RowNumber  CustomerId   Surname  CreditScore Geography  Gender  Age  \\\n",
       "0          1    15634602  Hargrave          619    France  Female   42   \n",
       "1          2    15647311      Hill          608     Spain  Female   41   \n",
       "2          3    15619304      Onio          502    France  Female   42   \n",
       "3          4    15701354      Boni          699    France  Female   39   \n",
       "4          5    15737888  Mitchell          850     Spain  Female   43   \n",
       "\n",
       "   Tenure    Balance  NumOfProducts  HasCrCard  IsActiveMember  \\\n",
       "0     2.0       0.00              1          1               1   \n",
       "1     1.0   83807.86              1          0               1   \n",
       "2     8.0  159660.80              3          1               0   \n",
       "3     1.0       0.00              2          0               0   \n",
       "4     2.0  125510.82              1          1               1   \n",
       "\n",
       "   EstimatedSalary  Exited  \n",
       "0        101348.88       1  \n",
       "1        112542.58       0  \n",
       "2        113931.57       1  \n",
       "3         93826.63       0  \n",
       "4         79084.10       0  "
      ]
     },
     "execution_count": 3,
     "metadata": {},
     "output_type": "execute_result"
    }
   ],
   "source": [
    "data.head()"
   ]
  },
  {
   "cell_type": "markdown",
   "metadata": {},
   "source": [
    "Удалим первые 3 столбца RowNumber, CustomerId, Surname как бесполезные"
   ]
  },
  {
   "cell_type": "code",
   "execution_count": 4,
   "metadata": {},
   "outputs": [],
   "source": [
    "data = data.drop(['RowNumber', 'CustomerId', 'Surname'], axis=1)"
   ]
  },
  {
   "cell_type": "code",
   "execution_count": 5,
   "metadata": {},
   "outputs": [
    {
     "name": "stdout",
     "output_type": "stream",
     "text": [
      "<class 'pandas.core.frame.DataFrame'>\n",
      "RangeIndex: 10000 entries, 0 to 9999\n",
      "Data columns (total 11 columns):\n",
      " #   Column           Non-Null Count  Dtype  \n",
      "---  ------           --------------  -----  \n",
      " 0   CreditScore      10000 non-null  int64  \n",
      " 1   Geography        10000 non-null  object \n",
      " 2   Gender           10000 non-null  object \n",
      " 3   Age              10000 non-null  int64  \n",
      " 4   Tenure           9091 non-null   float64\n",
      " 5   Balance          10000 non-null  float64\n",
      " 6   NumOfProducts    10000 non-null  int64  \n",
      " 7   HasCrCard        10000 non-null  int64  \n",
      " 8   IsActiveMember   10000 non-null  int64  \n",
      " 9   EstimatedSalary  10000 non-null  float64\n",
      " 10  Exited           10000 non-null  int64  \n",
      "dtypes: float64(3), int64(6), object(2)\n",
      "memory usage: 859.5+ KB\n"
     ]
    }
   ],
   "source": [
    "data.info()"
   ]
  },
  {
   "cell_type": "code",
   "execution_count": 6,
   "metadata": {},
   "outputs": [
    {
     "data": {
      "text/plain": [
       "count    9091.000000\n",
       "mean        4.997690\n",
       "std         2.894723\n",
       "min         0.000000\n",
       "25%         2.000000\n",
       "50%         5.000000\n",
       "75%         7.000000\n",
       "max        10.000000\n",
       "Name: Tenure, dtype: float64"
      ]
     },
     "execution_count": 6,
     "metadata": {},
     "output_type": "execute_result"
    }
   ],
   "source": [
    "data['Tenure'].describe()"
   ]
  },
  {
   "cell_type": "markdown",
   "metadata": {},
   "source": [
    "Видим что есть пропуски в столбце Tenure, т.к. среднее и медиана имеет практически одинаковое значение, заменим пропуски на 5"
   ]
  },
  {
   "cell_type": "code",
   "execution_count": 7,
   "metadata": {},
   "outputs": [],
   "source": [
    "data['Tenure']=data['Tenure'].fillna(5).astype('int64')"
   ]
  },
  {
   "cell_type": "code",
   "execution_count": 8,
   "metadata": {},
   "outputs": [
    {
     "data": {
      "text/plain": [
       "count    10000.00000\n",
       "mean         4.99790\n",
       "std          2.76001\n",
       "min          0.00000\n",
       "25%          3.00000\n",
       "50%          5.00000\n",
       "75%          7.00000\n",
       "max         10.00000\n",
       "Name: Tenure, dtype: float64"
      ]
     },
     "execution_count": 8,
     "metadata": {},
     "output_type": "execute_result"
    }
   ],
   "source": [
    "data['Tenure'].describe()"
   ]
  },
  {
   "cell_type": "markdown",
   "metadata": {},
   "source": [
    "Проверим на дубликаты"
   ]
  },
  {
   "cell_type": "code",
   "execution_count": 9,
   "metadata": {},
   "outputs": [
    {
     "data": {
      "text/plain": [
       "0"
      ]
     },
     "execution_count": 9,
     "metadata": {},
     "output_type": "execute_result"
    }
   ],
   "source": [
    "data.duplicated().sum()"
   ]
  },
  {
   "cell_type": "markdown",
   "metadata": {},
   "source": [
    "В столбцах Geography и Gender преобразуем категориальные признаки в численные методом прямого кодирования"
   ]
  },
  {
   "cell_type": "code",
   "execution_count": 10,
   "metadata": {},
   "outputs": [
    {
     "data": {
      "text/html": [
       "<div>\n",
       "<style scoped>\n",
       "    .dataframe tbody tr th:only-of-type {\n",
       "        vertical-align: middle;\n",
       "    }\n",
       "\n",
       "    .dataframe tbody tr th {\n",
       "        vertical-align: top;\n",
       "    }\n",
       "\n",
       "    .dataframe thead th {\n",
       "        text-align: right;\n",
       "    }\n",
       "</style>\n",
       "<table border=\"1\" class=\"dataframe\">\n",
       "  <thead>\n",
       "    <tr style=\"text-align: right;\">\n",
       "      <th></th>\n",
       "      <th>CreditScore</th>\n",
       "      <th>Age</th>\n",
       "      <th>Tenure</th>\n",
       "      <th>Balance</th>\n",
       "      <th>NumOfProducts</th>\n",
       "      <th>HasCrCard</th>\n",
       "      <th>IsActiveMember</th>\n",
       "      <th>EstimatedSalary</th>\n",
       "      <th>Exited</th>\n",
       "      <th>Geography_Germany</th>\n",
       "      <th>Geography_Spain</th>\n",
       "      <th>Gender_Male</th>\n",
       "    </tr>\n",
       "  </thead>\n",
       "  <tbody>\n",
       "    <tr>\n",
       "      <th>0</th>\n",
       "      <td>619</td>\n",
       "      <td>42</td>\n",
       "      <td>2</td>\n",
       "      <td>0.00</td>\n",
       "      <td>1</td>\n",
       "      <td>1</td>\n",
       "      <td>1</td>\n",
       "      <td>101348.88</td>\n",
       "      <td>1</td>\n",
       "      <td>0</td>\n",
       "      <td>0</td>\n",
       "      <td>0</td>\n",
       "    </tr>\n",
       "    <tr>\n",
       "      <th>1</th>\n",
       "      <td>608</td>\n",
       "      <td>41</td>\n",
       "      <td>1</td>\n",
       "      <td>83807.86</td>\n",
       "      <td>1</td>\n",
       "      <td>0</td>\n",
       "      <td>1</td>\n",
       "      <td>112542.58</td>\n",
       "      <td>0</td>\n",
       "      <td>0</td>\n",
       "      <td>1</td>\n",
       "      <td>0</td>\n",
       "    </tr>\n",
       "    <tr>\n",
       "      <th>2</th>\n",
       "      <td>502</td>\n",
       "      <td>42</td>\n",
       "      <td>8</td>\n",
       "      <td>159660.80</td>\n",
       "      <td>3</td>\n",
       "      <td>1</td>\n",
       "      <td>0</td>\n",
       "      <td>113931.57</td>\n",
       "      <td>1</td>\n",
       "      <td>0</td>\n",
       "      <td>0</td>\n",
       "      <td>0</td>\n",
       "    </tr>\n",
       "    <tr>\n",
       "      <th>3</th>\n",
       "      <td>699</td>\n",
       "      <td>39</td>\n",
       "      <td>1</td>\n",
       "      <td>0.00</td>\n",
       "      <td>2</td>\n",
       "      <td>0</td>\n",
       "      <td>0</td>\n",
       "      <td>93826.63</td>\n",
       "      <td>0</td>\n",
       "      <td>0</td>\n",
       "      <td>0</td>\n",
       "      <td>0</td>\n",
       "    </tr>\n",
       "    <tr>\n",
       "      <th>4</th>\n",
       "      <td>850</td>\n",
       "      <td>43</td>\n",
       "      <td>2</td>\n",
       "      <td>125510.82</td>\n",
       "      <td>1</td>\n",
       "      <td>1</td>\n",
       "      <td>1</td>\n",
       "      <td>79084.10</td>\n",
       "      <td>0</td>\n",
       "      <td>0</td>\n",
       "      <td>1</td>\n",
       "      <td>0</td>\n",
       "    </tr>\n",
       "  </tbody>\n",
       "</table>\n",
       "</div>"
      ],
      "text/plain": [
       "   CreditScore  Age  Tenure    Balance  NumOfProducts  HasCrCard  \\\n",
       "0          619   42       2       0.00              1          1   \n",
       "1          608   41       1   83807.86              1          0   \n",
       "2          502   42       8  159660.80              3          1   \n",
       "3          699   39       1       0.00              2          0   \n",
       "4          850   43       2  125510.82              1          1   \n",
       "\n",
       "   IsActiveMember  EstimatedSalary  Exited  Geography_Germany  \\\n",
       "0               1        101348.88       1                  0   \n",
       "1               1        112542.58       0                  0   \n",
       "2               0        113931.57       1                  0   \n",
       "3               0         93826.63       0                  0   \n",
       "4               1         79084.10       0                  0   \n",
       "\n",
       "   Geography_Spain  Gender_Male  \n",
       "0                0            0  \n",
       "1                1            0  \n",
       "2                0            0  \n",
       "3                0            0  \n",
       "4                1            0  "
      ]
     },
     "execution_count": 10,
     "metadata": {},
     "output_type": "execute_result"
    }
   ],
   "source": [
    "data_dummies = pd.get_dummies(data, drop_first=True)\n",
    "data_dummies.head()"
   ]
  },
  {
   "cell_type": "markdown",
   "metadata": {},
   "source": [
    "Сделаем выборки:\n",
    "\n",
    "Обучающая <b>features_train, target_train</b> Валидационная <b>features_valid, target_valid</b> Тестовая <b>features_test, target_test</b>"
   ]
  },
  {
   "cell_type": "code",
   "execution_count": 11,
   "metadata": {},
   "outputs": [],
   "source": [
    "target=data_dummies['Exited']\n",
    "features=data_dummies.drop(['Exited'],axis=1)"
   ]
  },
  {
   "cell_type": "code",
   "execution_count": 12,
   "metadata": {},
   "outputs": [],
   "source": [
    "features_train, features_valid, target_train,target_valid = train_test_split(features, target, test_size=0.5, random_state=12345)\n",
    "features_valid, features_test, target_valid, target_test = train_test_split(features_valid, target_valid, test_size=0.25, random_state=12345)"
   ]
  },
  {
   "cell_type": "markdown",
   "metadata": {},
   "source": [
    "## Исследование задачи"
   ]
  },
  {
   "cell_type": "markdown",
   "metadata": {},
   "source": [
    "### Стандартизируем тестовую и валидную выборку"
   ]
  },
  {
   "cell_type": "markdown",
   "metadata": {},
   "source": [
    "У признаков наблюдаем разный масштаб, стандартизируем их."
   ]
  },
  {
   "cell_type": "code",
   "execution_count": 13,
   "metadata": {},
   "outputs": [
    {
     "name": "stderr",
     "output_type": "stream",
     "text": [
      "/tmp/ipykernel_313/2397498521.py:4: SettingWithCopyWarning: \n",
      "A value is trying to be set on a copy of a slice from a DataFrame.\n",
      "Try using .loc[row_indexer,col_indexer] = value instead\n",
      "\n",
      "See the caveats in the documentation: https://pandas.pydata.org/pandas-docs/stable/user_guide/indexing.html#returning-a-view-versus-a-copy\n",
      "  features_train[numeric]=scaler.transform(features_train[numeric])\n",
      "/opt/conda/lib/python3.9/site-packages/pandas/core/indexing.py:1738: SettingWithCopyWarning: \n",
      "A value is trying to be set on a copy of a slice from a DataFrame.\n",
      "Try using .loc[row_indexer,col_indexer] = value instead\n",
      "\n",
      "See the caveats in the documentation: https://pandas.pydata.org/pandas-docs/stable/user_guide/indexing.html#returning-a-view-versus-a-copy\n",
      "  self._setitem_single_column(loc, value[:, i].tolist(), pi)\n"
     ]
    }
   ],
   "source": [
    "numeric=['CreditScore','Age','Tenure','Balance','NumOfProducts','HasCrCard','IsActiveMember']\n",
    "scaler=StandardScaler()\n",
    "scaler.fit(features_train[numeric])\n",
    "features_train[numeric]=scaler.transform(features_train[numeric])\n",
    "features_valid[numeric]=scaler.transform(features_valid[numeric])\n",
    "features_test[numeric]=scaler.transform(features_test[numeric])"
   ]
  },
  {
   "cell_type": "markdown",
   "metadata": {},
   "source": [
    "### Дерево решений"
   ]
  },
  {
   "cell_type": "markdown",
   "metadata": {},
   "source": [
    "Обучим модель с помощью Дерева решенй, без учета баланса"
   ]
  },
  {
   "cell_type": "code",
   "execution_count": 14,
   "metadata": {},
   "outputs": [
    {
     "name": "stdout",
     "output_type": "stream",
     "text": [
      "max_depth: 7 F1: 0.5495011511895626\n"
     ]
    }
   ],
   "source": [
    "dtc_f1 = 0\n",
    "dtc_f1_depth = 0\n",
    "for depth in range(1,10,1):\n",
    "    model = DecisionTreeClassifier(max_depth=depth,random_state=1234)\n",
    "    model.fit(features_train, target_train)\n",
    "    prediction = model.predict(features_valid)\n",
    "    f1 = f1_score(target_valid, prediction)\n",
    "    if f1 > dtc_f1:\n",
    "        dtc_f1 = f1\n",
    "        dtc_f1_depth = depth\n",
    "print('max_depth:', dtc_f1_depth, 'F1:', dtc_f1)"
   ]
  },
  {
   "cell_type": "code",
   "execution_count": 15,
   "metadata": {},
   "outputs": [
    {
     "name": "stdout",
     "output_type": "stream",
     "text": [
      "AUC-ROC: 0.7706\n"
     ]
    }
   ],
   "source": [
    "probabilities_valid = model.predict_proba(features_valid)\n",
    "probabilities_one_valid = probabilities_valid[:, 1]\n",
    "dtc_auc_roc = roc_auc_score(target_valid, probabilities_one_valid)\n",
    "print('AUC-ROC:', round(dtc_auc_roc, 4))"
   ]
  },
  {
   "cell_type": "markdown",
   "metadata": {},
   "source": [
    "### Случайный лес"
   ]
  },
  {
   "cell_type": "markdown",
   "metadata": {},
   "source": [
    "Обучим модель с помощью Случайного леса, без учета баланса"
   ]
  },
  {
   "cell_type": "code",
   "execution_count": 16,
   "metadata": {},
   "outputs": [
    {
     "name": "stdout",
     "output_type": "stream",
     "text": [
      "max_depth: 13 F1: 0.5712\n"
     ]
    }
   ],
   "source": [
    "rfc_f1 = 0\n",
    "rfc_f1_depth = 0\n",
    "\n",
    "for max_depth in range(1,20,1):\n",
    "    model = RandomForestClassifier(max_depth=max_depth, n_estimators=50, random_state=1234)\n",
    "    model.fit(features_train, target_train)\n",
    "    prediction = model.predict(features_valid)\n",
    "    f1 = f1_score(target_valid, prediction)\n",
    "    if f1 > rfc_f1:\n",
    "        rfc_f1 = f1\n",
    "        rfc_f1_depth = max_depth\n",
    "print('max_depth:', rfc_f1_depth,'F1:', rfc_f1)"
   ]
  },
  {
   "cell_type": "code",
   "execution_count": 17,
   "metadata": {},
   "outputs": [
    {
     "name": "stdout",
     "output_type": "stream",
     "text": [
      "AUC-ROC: 0.8355608566007049\n"
     ]
    }
   ],
   "source": [
    "probabilities_valid = model.predict_proba(features_valid)\n",
    "probabilities_one_valid = probabilities_valid[:, 1]\n",
    "rfc_auc_roc = roc_auc_score(target_valid, probabilities_one_valid)\n",
    "print('AUC-ROC:', rfc_auc_roc)"
   ]
  },
  {
   "cell_type": "markdown",
   "metadata": {},
   "source": [
    "### Логистическая регрессия"
   ]
  },
  {
   "cell_type": "markdown",
   "metadata": {},
   "source": [
    "Обучим модель с помощью Логистической регрессии, без учета баланса"
   ]
  },
  {
   "cell_type": "code",
   "execution_count": 18,
   "metadata": {},
   "outputs": [
    {
     "name": "stdout",
     "output_type": "stream",
     "text": [
      "F1: 0.39036144578313253\n"
     ]
    }
   ],
   "source": [
    "model = LogisticRegression()\n",
    "model.fit(features_train, target_train)\n",
    "prediction = model.predict(features_valid)\n",
    "\n",
    "lr_f1 = f1_score(target_valid, prediction)\n",
    "\n",
    "print('F1:', lr_f1)"
   ]
  },
  {
   "cell_type": "code",
   "execution_count": 19,
   "metadata": {},
   "outputs": [
    {
     "name": "stdout",
     "output_type": "stream",
     "text": [
      "AUC-ROC: 0.7403315803740851\n"
     ]
    }
   ],
   "source": [
    "probabilities_valid = model.predict_proba(features_valid)\n",
    "probabilities_one_valid = probabilities_valid[:, 1]\n",
    "\n",
    "lr_auc_roc = roc_auc_score(target_valid, probabilities_one_valid)\n",
    "\n",
    "print('AUC-ROC:', lr_auc_roc)"
   ]
  },
  {
   "cell_type": "code",
   "execution_count": 20,
   "metadata": {},
   "outputs": [
    {
     "data": {
      "text/html": [
       "<div>\n",
       "<style scoped>\n",
       "    .dataframe tbody tr th:only-of-type {\n",
       "        vertical-align: middle;\n",
       "    }\n",
       "\n",
       "    .dataframe tbody tr th {\n",
       "        vertical-align: top;\n",
       "    }\n",
       "\n",
       "    .dataframe thead th {\n",
       "        text-align: right;\n",
       "    }\n",
       "</style>\n",
       "<table border=\"1\" class=\"dataframe\">\n",
       "  <thead>\n",
       "    <tr style=\"text-align: right;\">\n",
       "      <th></th>\n",
       "      <th>Metrics</th>\n",
       "      <th>DecisionTreeClassifier</th>\n",
       "      <th>RandomForestClassifier</th>\n",
       "      <th>LogisticRegression</th>\n",
       "    </tr>\n",
       "  </thead>\n",
       "  <tbody>\n",
       "    <tr>\n",
       "      <th>0</th>\n",
       "      <td>F1</td>\n",
       "      <td>0.5495</td>\n",
       "      <td>0.5712</td>\n",
       "      <td>0.3904</td>\n",
       "    </tr>\n",
       "    <tr>\n",
       "      <th>1</th>\n",
       "      <td>AUC-ROC</td>\n",
       "      <td>0.7706</td>\n",
       "      <td>0.8356</td>\n",
       "      <td>0.7403</td>\n",
       "    </tr>\n",
       "  </tbody>\n",
       "</table>\n",
       "</div>"
      ],
      "text/plain": [
       "   Metrics  DecisionTreeClassifier  RandomForestClassifier  LogisticRegression\n",
       "0       F1                  0.5495                  0.5712              0.3904\n",
       "1  AUC-ROC                  0.7706                  0.8356              0.7403"
      ]
     },
     "execution_count": 20,
     "metadata": {},
     "output_type": "execute_result"
    }
   ],
   "source": [
    "final = {'Metrics': ['F1', 'AUC-ROC'],\n",
    " 'DecisionTreeClassifier': [round(dtc_f1, 4), round(dtc_auc_roc, 4)],\n",
    " 'RandomForestClassifier': [round(rfc_f1, 4), round(rfc_auc_roc,4) ],\n",
    " 'LogisticRegression': [round(lr_f1, 4), round(lr_auc_roc, 4)]}\n",
    "df_final = pd.DataFrame(final)\n",
    "\n",
    "df_final"
   ]
  },
  {
   "cell_type": "markdown",
   "metadata": {},
   "source": [
    "Видим что лучший показатель у модели Случайный Лес с параметром max_depth: 13 F1: 0.5712, AUC-ROC: 0.8356"
   ]
  },
  {
   "cell_type": "markdown",
   "metadata": {},
   "source": [
    "## Борьба с дисбалансом"
   ]
  },
  {
   "cell_type": "markdown",
   "metadata": {},
   "source": [
    "Посмотрим на соотношение тех кто ушле и тех кто остался"
   ]
  },
  {
   "cell_type": "code",
   "execution_count": 21,
   "metadata": {},
   "outputs": [
    {
     "data": {
      "text/plain": [
       "0    3984\n",
       "1    1016\n",
       "Name: Exited, dtype: int64"
      ]
     },
     "execution_count": 21,
     "metadata": {},
     "output_type": "execute_result"
    }
   ],
   "source": [
    "target_train.value_counts()"
   ]
  },
  {
   "cell_type": "markdown",
   "metadata": {},
   "source": [
    "Видим что соотношение 1:4, это говорит о том что есть дисбаланс в данных."
   ]
  },
  {
   "cell_type": "code",
   "execution_count": 22,
   "metadata": {},
   "outputs": [],
   "source": [
    "def upsample(features, target, repeat):\n",
    "    features_zeros = features[target == 0]\n",
    "    features_ones = features[target == 1]\n",
    "    target_zeros = target[target == 0]\n",
    "    target_ones = target[target == 1]\n",
    "\n",
    "    features_upsampled = pd.concat([features_zeros] + [features_ones] * repeat)\n",
    "    target_upsampled = pd.concat([target_zeros] + [target_ones] * repeat)\n",
    "    \n",
    "    features_upsampled, target_upsampled = shuffle(features_upsampled, target_upsampled, random_state=12345)\n",
    "    \n",
    "    return features_upsampled, target_upsampled\n",
    "\n",
    "features_upsampled, target_upsampled = upsample(features_train, target_train, 4)"
   ]
  },
  {
   "cell_type": "markdown",
   "metadata": {},
   "source": [
    "Так же для борьбы с дисбалансом можно привести количество оставшихся клиентов к количеству ушедших. Применим функцию downsample. Уменьшим кол-в пооложительных ответов в 4 раза"
   ]
  },
  {
   "cell_type": "code",
   "execution_count": 23,
   "metadata": {},
   "outputs": [],
   "source": [
    "def downsample(features, target, fraction):\n",
    "    features_zeros = features[target == 0]\n",
    "    features_ones = features[target == 1]\n",
    "    target_zeros = target[target == 0]\n",
    "    target_ones = target[target == 1]\n",
    "\n",
    "    features_downsampled = pd.concat([features_zeros.sample(frac=fraction, random_state=12345)] + [features_ones])\n",
    "    target_downsampled = pd.concat([target_zeros.sample(frac=fraction, random_state=12345)] + [target_ones])\n",
    "    \n",
    "    features_downsampled, target_downsampled = shuffle(features_downsampled, target_downsampled, random_state=12345)\n",
    "    \n",
    "    return features_downsampled, target_downsampled\n",
    "\n",
    "features_downsampled, target_downsampled = downsample(features_train, target_train, 0.25)"
   ]
  },
  {
   "cell_type": "markdown",
   "metadata": {},
   "source": [
    "## Тестирование модели"
   ]
  },
  {
   "cell_type": "markdown",
   "metadata": {},
   "source": [
    "### Дерево решения"
   ]
  },
  {
   "cell_type": "markdown",
   "metadata": {},
   "source": [
    "Проверим модель при увеличении выборки"
   ]
  },
  {
   "cell_type": "code",
   "execution_count": 24,
   "metadata": {},
   "outputs": [
    {
     "name": "stdout",
     "output_type": "stream",
     "text": [
      "max_depth: 6 F1: 0.5818181818181818\n"
     ]
    }
   ],
   "source": [
    "dtc_f1_up = 0\n",
    "dtc_f1_depth_up = 0\n",
    "\n",
    "for depth in range(1,10,1):\n",
    "    model_dtc = DecisionTreeClassifier(max_depth=depth, random_state=1234)\n",
    "    model_dtc.fit(features_upsampled, target_upsampled)\n",
    "    prediction = model_dtc.predict(features_valid)\n",
    "    f1 = f1_score(target_valid, prediction)\n",
    "    if f1 > dtc_f1_up:\n",
    "        dtc_f1_up = f1\n",
    "        dtc_f1_depth_up = depth\n",
    "print('max_depth:', dtc_f1_depth_up, 'F1:', dtc_f1_up)"
   ]
  },
  {
   "cell_type": "code",
   "execution_count": 25,
   "metadata": {},
   "outputs": [
    {
     "name": "stdout",
     "output_type": "stream",
     "text": [
      "AUC-ROC: 0.7634999186771483\n"
     ]
    }
   ],
   "source": [
    "probabilities_valid = model_dtc.predict_proba(features_valid)\n",
    "probabilities_one_valid = probabilities_valid[:, 1]\n",
    "\n",
    "dtc_auc_roc_up = roc_auc_score(target_valid, probabilities_one_valid)\n",
    "print('AUC-ROC:', dtc_auc_roc_up)"
   ]
  },
  {
   "cell_type": "markdown",
   "metadata": {},
   "source": [
    "Проверим модель при уменьшении выборки"
   ]
  },
  {
   "cell_type": "code",
   "execution_count": 26,
   "metadata": {},
   "outputs": [
    {
     "name": "stdout",
     "output_type": "stream",
     "text": [
      "max_depth: 6 F1: 0.5554465161923453\n"
     ]
    }
   ],
   "source": [
    "dtc_f1_down = 0\n",
    "dtc_f1_depth_down = 0\n",
    "\n",
    "for depth in range(1,10,1):\n",
    "    model=DecisionTreeClassifier(max_depth=depth, random_state=1234)\n",
    "    model.fit(features_downsampled, target_downsampled)\n",
    "    prediction = model.predict(features_valid)\n",
    "    f1 = f1_score(target_valid, prediction)\n",
    "    if f1 > dtc_f1:\n",
    "        dtc_f1_down = f1\n",
    "        dtc_f1_depth_down = depth\n",
    "print('max_depth:', dtc_f1_depth_down, 'F1:', dtc_f1_down)"
   ]
  },
  {
   "cell_type": "code",
   "execution_count": 27,
   "metadata": {},
   "outputs": [
    {
     "name": "stdout",
     "output_type": "stream",
     "text": [
      "AUC-ROC: 0.7419589048522635\n"
     ]
    }
   ],
   "source": [
    "probabilities_valid = model.predict_proba(features_valid)\n",
    "probabilities_one_valid = probabilities_valid[:, 1]\n",
    "\n",
    "dtc_auc_roc_down = roc_auc_score(target_valid, probabilities_one_valid)\n",
    "print('AUC-ROC:', dtc_auc_roc_down)"
   ]
  },
  {
   "cell_type": "markdown",
   "metadata": {},
   "source": [
    "<b>Вывод:</b> на увеличенной выборке модель показала себя лучше, F1 вырос с 0.5495 до 0.5818"
   ]
  },
  {
   "cell_type": "markdown",
   "metadata": {},
   "source": [
    "AUC-ROC снизилась с 0.7706 до 0.7634"
   ]
  },
  {
   "cell_type": "markdown",
   "metadata": {},
   "source": [
    "### Случайный лес"
   ]
  },
  {
   "cell_type": "markdown",
   "metadata": {},
   "source": [
    "Проверим модель при увеличении выборки"
   ]
  },
  {
   "cell_type": "code",
   "execution_count": 28,
   "metadata": {},
   "outputs": [
    {
     "name": "stdout",
     "output_type": "stream",
     "text": [
      "max_depth: 11 F1: 0.6024242424242424\n"
     ]
    }
   ],
   "source": [
    "rfc_f1_up = 0\n",
    "rfc_f1_depth_up = 0\n",
    "\n",
    "for max_depth in range(1,20,1):\n",
    "    model_rfc = RandomForestClassifier(max_depth=max_depth, n_estimators=50, random_state=1234)\n",
    "    model_rfc.fit(features_upsampled, target_upsampled)\n",
    "    prediction = model_rfc.predict(features_valid)\n",
    "    \n",
    "    f1 = f1_score(target_valid, prediction)\n",
    "    if f1 > rfc_f1_up:\n",
    "        rfc_f1_up = f1\n",
    "        rfc_f1_depth_up = max_depth\n",
    "print('max_depth:', rfc_f1_depth_up,'F1:', rfc_f1_up)"
   ]
  },
  {
   "cell_type": "code",
   "execution_count": 29,
   "metadata": {},
   "outputs": [
    {
     "name": "stdout",
     "output_type": "stream",
     "text": [
      "AUC-ROC: 0.8291396042287883\n"
     ]
    }
   ],
   "source": [
    "probabilities_valid = model_rfc.predict_proba(features_valid)\n",
    "probabilities_one_valid = probabilities_valid[:, 1]\n",
    "\n",
    "rfc_auc_roc_up = roc_auc_score(target_valid, probabilities_one_valid)\n",
    "print('AUC-ROC:', rfc_auc_roc_up)"
   ]
  },
  {
   "cell_type": "markdown",
   "metadata": {},
   "source": [
    "Проверим модель при уменьшении выборки"
   ]
  },
  {
   "cell_type": "code",
   "execution_count": 30,
   "metadata": {},
   "outputs": [
    {
     "name": "stdout",
     "output_type": "stream",
     "text": [
      "max_depth: 6 F1: 0.5779583544946674\n"
     ]
    }
   ],
   "source": [
    "rfc_f1_down = 0\n",
    "rfc_f1_depth_down = 0\n",
    "\n",
    "for max_depth in range(1,20,1):\n",
    "    model = RandomForestClassifier(max_depth=max_depth, n_estimators=50, random_state=1234)\n",
    "    model.fit(features_downsampled, target_downsampled)\n",
    "    prediction = model.predict(features_valid)\n",
    "    \n",
    "    f1 = f1_score(target_valid, prediction)\n",
    "    if f1 > rfc_f1_down:\n",
    "        rfc_f1_down = f1\n",
    "        rfc_f1_depth_down = max_depth\n",
    "print('max_depth:', rfc_f1_depth_down,'F1:', rfc_f1_down)"
   ]
  },
  {
   "cell_type": "code",
   "execution_count": 31,
   "metadata": {},
   "outputs": [
    {
     "name": "stdout",
     "output_type": "stream",
     "text": [
      "AUC-ROC: 0.8285881268636487\n"
     ]
    }
   ],
   "source": [
    "probabilities_valid = model.predict_proba(features_valid)\n",
    "probabilities_one_valid = probabilities_valid[:, 1]\n",
    "\n",
    "rfc_auc_roc_down = roc_auc_score(target_valid, probabilities_one_valid)\n",
    "print('AUC-ROC:', rfc_auc_roc_down)"
   ]
  },
  {
   "cell_type": "markdown",
   "metadata": {},
   "source": [
    "<b>Вывод:</b> на увеличенной выборке модель показала себя лучше, F1 вырос с 0.5712 до 0.6024"
   ]
  },
  {
   "cell_type": "markdown",
   "metadata": {},
   "source": [
    "AUC-ROC снизился с 0.8355 до 0.8291"
   ]
  },
  {
   "cell_type": "markdown",
   "metadata": {},
   "source": [
    "### Логистическая регрессия"
   ]
  },
  {
   "cell_type": "markdown",
   "metadata": {},
   "source": [
    "Проверим модель при увеличении выборки"
   ]
  },
  {
   "cell_type": "code",
   "execution_count": 32,
   "metadata": {},
   "outputs": [
    {
     "name": "stdout",
     "output_type": "stream",
     "text": [
      "F1: 0.4782214156079854\n"
     ]
    }
   ],
   "source": [
    "model_lr = LogisticRegression(solver='liblinear')\n",
    "model_lr.fit(features_upsampled, target_upsampled)\n",
    "prediction = model_lr.predict(features_valid)\n",
    "\n",
    "lr_f1_up = f1_score(target_valid, prediction)\n",
    "\n",
    "print('F1:', lr_f1_up)"
   ]
  },
  {
   "cell_type": "code",
   "execution_count": 33,
   "metadata": {},
   "outputs": [
    {
     "name": "stdout",
     "output_type": "stream",
     "text": [
      "AUC-ROC: 0.7534421252371917\n"
     ]
    }
   ],
   "source": [
    "probabilities_valid = model_lr.predict_proba(features_valid)\n",
    "probabilities_one_valid = probabilities_valid[:, 1]\n",
    "\n",
    "lr_auc_roc_up = roc_auc_score(target_valid, probabilities_one_valid)\n",
    "\n",
    "print('AUC-ROC:', lr_auc_roc_up)"
   ]
  },
  {
   "cell_type": "markdown",
   "metadata": {},
   "source": [
    "Проверим модель при уменьшении выборки"
   ]
  },
  {
   "cell_type": "code",
   "execution_count": 34,
   "metadata": {},
   "outputs": [
    {
     "name": "stdout",
     "output_type": "stream",
     "text": [
      "F1: 0.471623405191377\n"
     ]
    }
   ],
   "source": [
    "model = LogisticRegression(solver='liblinear')\n",
    "model.fit(features_downsampled, target_downsampled)\n",
    "prediction = model.predict(features_valid)\n",
    "\n",
    "lr_f1_down = f1_score(target_valid, prediction)\n",
    "\n",
    "print('F1:', lr_f1_down)"
   ]
  },
  {
   "cell_type": "code",
   "execution_count": 35,
   "metadata": {},
   "outputs": [
    {
     "name": "stdout",
     "output_type": "stream",
     "text": [
      "AUC-ROC: 0.7461417186229331\n"
     ]
    }
   ],
   "source": [
    "probabilities_valid = model.predict_proba(features_valid)\n",
    "probabilities_one_valid = probabilities_valid[:, 1]\n",
    "\n",
    "lr_auc_roc_down = roc_auc_score(target_valid, probabilities_one_valid)\n",
    "\n",
    "print('AUC-ROC:', lr_auc_roc_down)"
   ]
  },
  {
   "cell_type": "markdown",
   "metadata": {},
   "source": [
    "На увеличенной выборке модель показала себя лучше, F1 вырос с 0.3903 до 0.4782"
   ]
  },
  {
   "cell_type": "markdown",
   "metadata": {},
   "source": [
    "AUC-ROC повысился с 0.7403 до 0.7534"
   ]
  },
  {
   "cell_type": "code",
   "execution_count": 36,
   "metadata": {},
   "outputs": [
    {
     "data": {
      "text/html": [
       "<div>\n",
       "<style scoped>\n",
       "    .dataframe tbody tr th:only-of-type {\n",
       "        vertical-align: middle;\n",
       "    }\n",
       "\n",
       "    .dataframe tbody tr th {\n",
       "        vertical-align: top;\n",
       "    }\n",
       "\n",
       "    .dataframe thead th {\n",
       "        text-align: right;\n",
       "    }\n",
       "</style>\n",
       "<table border=\"1\" class=\"dataframe\">\n",
       "  <thead>\n",
       "    <tr style=\"text-align: right;\">\n",
       "      <th></th>\n",
       "      <th>Metrics</th>\n",
       "      <th>DecisionTreeClassifier</th>\n",
       "      <th>RandomForestClassifier</th>\n",
       "      <th>LogisticRegression</th>\n",
       "    </tr>\n",
       "  </thead>\n",
       "  <tbody>\n",
       "    <tr>\n",
       "      <th>0</th>\n",
       "      <td>F1</td>\n",
       "      <td>0.5495</td>\n",
       "      <td>0.5712</td>\n",
       "      <td>0.3904</td>\n",
       "    </tr>\n",
       "    <tr>\n",
       "      <th>1</th>\n",
       "      <td>AUC-ROC</td>\n",
       "      <td>0.7706</td>\n",
       "      <td>0.8356</td>\n",
       "      <td>0.7403</td>\n",
       "    </tr>\n",
       "    <tr>\n",
       "      <th>0</th>\n",
       "      <td>F1_up</td>\n",
       "      <td>0.5818</td>\n",
       "      <td>0.6024</td>\n",
       "      <td>0.4782</td>\n",
       "    </tr>\n",
       "    <tr>\n",
       "      <th>1</th>\n",
       "      <td>F1_down</td>\n",
       "      <td>0.5554</td>\n",
       "      <td>0.5780</td>\n",
       "      <td>0.4716</td>\n",
       "    </tr>\n",
       "    <tr>\n",
       "      <th>2</th>\n",
       "      <td>AUC-ROC_up</td>\n",
       "      <td>0.7635</td>\n",
       "      <td>0.8291</td>\n",
       "      <td>0.7534</td>\n",
       "    </tr>\n",
       "    <tr>\n",
       "      <th>3</th>\n",
       "      <td>AUC-ROC_down</td>\n",
       "      <td>0.7420</td>\n",
       "      <td>0.8286</td>\n",
       "      <td>0.7461</td>\n",
       "    </tr>\n",
       "  </tbody>\n",
       "</table>\n",
       "</div>"
      ],
      "text/plain": [
       "        Metrics  DecisionTreeClassifier  RandomForestClassifier  \\\n",
       "0            F1                  0.5495                  0.5712   \n",
       "1       AUC-ROC                  0.7706                  0.8356   \n",
       "0         F1_up                  0.5818                  0.6024   \n",
       "1       F1_down                  0.5554                  0.5780   \n",
       "2    AUC-ROC_up                  0.7635                  0.8291   \n",
       "3  AUC-ROC_down                  0.7420                  0.8286   \n",
       "\n",
       "   LogisticRegression  \n",
       "0              0.3904  \n",
       "1              0.7403  \n",
       "0              0.4782  \n",
       "1              0.4716  \n",
       "2              0.7534  \n",
       "3              0.7461  "
      ]
     },
     "execution_count": 36,
     "metadata": {},
     "output_type": "execute_result"
    }
   ],
   "source": [
    "final = {'Metrics': ['F1_up', 'F1_down', 'AUC-ROC_up', 'AUC-ROC_down'],\n",
    " 'DecisionTreeClassifier': [round(dtc_f1_up, 4), round(dtc_f1_down, 4), round(dtc_auc_roc_up, 4), round(dtc_auc_roc_down, 4)],\n",
    " 'RandomForestClassifier': [round(rfc_f1_up, 4), round(rfc_f1_down,4), round(rfc_auc_roc_up,4), round(rfc_auc_roc_down,4)],\n",
    " 'LogisticRegression': [round(lr_f1_up, 4), round(lr_f1_down, 4), round(lr_auc_roc_up, 4), round(lr_auc_roc_down, 4)]}\n",
    "df_final = df_final.append(pd.DataFrame(final))\n",
    "\n",
    "df_final"
   ]
  },
  {
   "cell_type": "markdown",
   "metadata": {},
   "source": [
    "<b> Вывод: Лучше всего себя показала модель RandomForestClassifier на увеличенной выборке с показателем F1 = 0.6024 и AUC-ROC = 0.8291. В целом борьба с балансом показала себя с улучшением показателей по сравнению с несбалансированными данными."
   ]
  },
  {
   "cell_type": "code",
   "execution_count": 37,
   "metadata": {},
   "outputs": [
    {
     "name": "stdout",
     "output_type": "stream",
     "text": [
      "max_depth: 11 F1: 0.605009633911368\n"
     ]
    }
   ],
   "source": [
    "model_rfc = RandomForestClassifier(max_depth=11, n_estimators=50, random_state=1234)\n",
    "model_rfc.fit(features_upsampled, target_upsampled)\n",
    "prediction = model_rfc.predict(features_test)\n",
    "f1 = f1_score(target_test, prediction)\n",
    "print('max_depth:', 11,'F1:', f1)"
   ]
  },
  {
   "cell_type": "code",
   "execution_count": 38,
   "metadata": {},
   "outputs": [
    {
     "name": "stdout",
     "output_type": "stream",
     "text": [
      "AUC-ROC: 0.8647402260875198\n"
     ]
    }
   ],
   "source": [
    "probabilities_test = model_rfc.predict_proba(features_test)\n",
    "probabilities_one_test = probabilities_test[:, 1]\n",
    "\n",
    "rfc_auc_roc_up = roc_auc_score(target_test, probabilities_one_test)\n",
    "print('AUC-ROC:', rfc_auc_roc_up)"
   ]
  },
  {
   "cell_type": "markdown",
   "metadata": {},
   "source": [
    "<b> Вывод: Выбранная нами модель RandomForestClassifier на тестовой выборке показала себя еще лучше и показала следующие показатели F1 = 0.6050 и AUC-ROC = 0.8647."
   ]
  },
  {
   "cell_type": "markdown",
   "metadata": {},
   "source": [
    "## Чек-лист готовности проекта"
   ]
  },
  {
   "cell_type": "markdown",
   "metadata": {},
   "source": [
    "Поставьте 'x' в выполненных пунктах. Далее нажмите Shift+Enter."
   ]
  },
  {
   "cell_type": "markdown",
   "metadata": {},
   "source": [
    "- [x]  Jupyter Notebook открыт\n",
    "- [ ]  Весь код выполняется без ошибок\n",
    "- [ ]  Ячейки с кодом расположены в порядке исполнения\n",
    "- [ ]  Выполнен шаг 1: данные подготовлены\n",
    "- [ ]  Выполнен шаг 2: задача исследована\n",
    "    - [ ]  Исследован баланс классов\n",
    "    - [ ]  Изучены модели без учёта дисбаланса\n",
    "    - [ ]  Написаны выводы по результатам исследования\n",
    "- [ ]  Выполнен шаг 3: учтён дисбаланс\n",
    "    - [ ]  Применено несколько способов борьбы с дисбалансом\n",
    "    - [ ]  Написаны выводы по результатам исследования\n",
    "- [ ]  Выполнен шаг 4: проведено тестирование\n",
    "- [ ]  Удалось достичь *F1*-меры не менее 0.59\n",
    "- [ ]  Исследована метрика *AUC-ROC*"
   ]
  },
  {
   "cell_type": "code",
   "execution_count": null,
   "metadata": {},
   "outputs": [],
   "source": []
  }
 ],
 "metadata": {
  "ExecuteTimeLog": [
   {
    "duration": 412,
    "start_time": "2022-12-10T12:52:05.096Z"
   },
   {
    "duration": 172,
    "start_time": "2022-12-10T12:52:27.036Z"
   },
   {
    "duration": 21,
    "start_time": "2022-12-10T12:52:42.195Z"
   },
   {
    "duration": 58,
    "start_time": "2022-12-11T16:50:27.449Z"
   },
   {
    "duration": 339,
    "start_time": "2022-12-11T16:50:30.951Z"
   },
   {
    "duration": 85,
    "start_time": "2022-12-11T16:50:31.292Z"
   },
   {
    "duration": 18,
    "start_time": "2022-12-11T16:50:31.669Z"
   },
   {
    "duration": 12,
    "start_time": "2022-12-11T16:50:32.452Z"
   },
   {
    "duration": 4,
    "start_time": "2022-12-11T19:33:05.256Z"
   },
   {
    "duration": 10,
    "start_time": "2022-12-11T19:33:10.151Z"
   },
   {
    "duration": 5,
    "start_time": "2022-12-11T19:50:13.787Z"
   },
   {
    "duration": 11,
    "start_time": "2022-12-11T19:50:16.705Z"
   },
   {
    "duration": 26,
    "start_time": "2022-12-11T19:57:47.517Z"
   },
   {
    "duration": 10,
    "start_time": "2022-12-11T19:57:56.642Z"
   },
   {
    "duration": 22,
    "start_time": "2022-12-11T20:59:01.293Z"
   },
   {
    "duration": 442,
    "start_time": "2022-12-17T09:07:11.521Z"
   },
   {
    "duration": 87,
    "start_time": "2022-12-17T09:07:12.097Z"
   },
   {
    "duration": 28,
    "start_time": "2022-12-17T09:07:12.842Z"
   },
   {
    "duration": 5,
    "start_time": "2022-12-17T09:07:17.044Z"
   },
   {
    "duration": 15,
    "start_time": "2022-12-17T09:07:17.518Z"
   },
   {
    "duration": 4,
    "start_time": "2022-12-17T09:07:20.692Z"
   },
   {
    "duration": 15,
    "start_time": "2022-12-17T09:07:21.632Z"
   },
   {
    "duration": 23,
    "start_time": "2022-12-17T09:07:29.184Z"
   },
   {
    "duration": 82,
    "start_time": "2022-12-17T09:07:41.299Z"
   },
   {
    "duration": 5,
    "start_time": "2022-12-17T09:09:28.466Z"
   },
   {
    "duration": 9,
    "start_time": "2022-12-17T09:09:30.057Z"
   },
   {
    "duration": 1128,
    "start_time": "2022-12-17T09:10:19.157Z"
   },
   {
    "duration": 9,
    "start_time": "2022-12-17T09:10:24.356Z"
   },
   {
    "duration": 29,
    "start_time": "2022-12-17T12:33:18.393Z"
   },
   {
    "duration": 13,
    "start_time": "2022-12-17T12:34:03.677Z"
   },
   {
    "duration": 29,
    "start_time": "2022-12-17T12:35:29.735Z"
   },
   {
    "duration": 92,
    "start_time": "2022-12-17T13:50:57.346Z"
   },
   {
    "duration": 14,
    "start_time": "2022-12-17T13:52:06.372Z"
   },
   {
    "duration": 155,
    "start_time": "2022-12-17T13:52:16.743Z"
   },
   {
    "duration": 113,
    "start_time": "2022-12-17T13:56:20.604Z"
   },
   {
    "duration": 4834,
    "start_time": "2022-12-17T13:56:29.743Z"
   },
   {
    "duration": 320,
    "start_time": "2022-12-17T13:59:25.322Z"
   },
   {
    "duration": 5,
    "start_time": "2022-12-17T14:10:00.245Z"
   },
   {
    "duration": 14,
    "start_time": "2022-12-17T15:25:32.037Z"
   },
   {
    "duration": 617,
    "start_time": "2022-12-17T15:33:02.522Z"
   },
   {
    "duration": 231,
    "start_time": "2022-12-17T15:36:26.559Z"
   },
   {
    "duration": 16,
    "start_time": "2022-12-17T15:37:45.166Z"
   },
   {
    "duration": 6305,
    "start_time": "2022-12-17T15:37:59.384Z"
   },
   {
    "duration": 41,
    "start_time": "2022-12-17T15:38:55.997Z"
   },
   {
    "duration": 10,
    "start_time": "2022-12-17T17:21:29.845Z"
   },
   {
    "duration": 14,
    "start_time": "2022-12-17T17:21:47.648Z"
   },
   {
    "duration": 6238,
    "start_time": "2022-12-17T17:21:57.227Z"
   },
   {
    "duration": 50,
    "start_time": "2022-12-17T17:22:07.503Z"
   },
   {
    "duration": 195,
    "start_time": "2022-12-17T17:22:11.707Z"
   },
   {
    "duration": 10,
    "start_time": "2022-12-17T17:22:17.225Z"
   },
   {
    "duration": 89,
    "start_time": "2022-12-17T17:25:10.249Z"
   },
   {
    "duration": 10,
    "start_time": "2022-12-17T17:25:11.749Z"
   },
   {
    "duration": 6394,
    "start_time": "2022-12-17T17:26:06.306Z"
   },
   {
    "duration": 46,
    "start_time": "2022-12-17T17:26:14.775Z"
   },
   {
    "duration": 181,
    "start_time": "2022-12-17T17:26:23.490Z"
   },
   {
    "duration": 9,
    "start_time": "2022-12-17T17:26:24.436Z"
   },
   {
    "duration": 526,
    "start_time": "2022-12-17T17:52:27.669Z"
   },
   {
    "duration": 521,
    "start_time": "2022-12-17T17:56:58.461Z"
   },
   {
    "duration": 4,
    "start_time": "2022-12-17T17:57:04.003Z"
   },
   {
    "duration": 40,
    "start_time": "2022-12-17T17:57:05.836Z"
   },
   {
    "duration": 13,
    "start_time": "2022-12-17T17:57:06.506Z"
   },
   {
    "duration": 4,
    "start_time": "2022-12-17T17:57:09.153Z"
   },
   {
    "duration": 12,
    "start_time": "2022-12-17T17:57:09.626Z"
   },
   {
    "duration": 4,
    "start_time": "2022-12-17T17:57:11.955Z"
   },
   {
    "duration": 9,
    "start_time": "2022-12-17T17:57:12.901Z"
   },
   {
    "duration": 18,
    "start_time": "2022-12-17T17:57:17.068Z"
   },
   {
    "duration": 5,
    "start_time": "2022-12-17T17:57:18.678Z"
   },
   {
    "duration": 8,
    "start_time": "2022-12-17T17:57:19.449Z"
   },
   {
    "duration": 510,
    "start_time": "2022-12-17T17:57:23.629Z"
   },
   {
    "duration": 7,
    "start_time": "2022-12-17T17:57:45.977Z"
   },
   {
    "duration": 1774,
    "start_time": "2022-12-18T06:15:23.358Z"
   },
   {
    "duration": 175,
    "start_time": "2022-12-18T06:15:25.134Z"
   },
   {
    "duration": 18,
    "start_time": "2022-12-18T06:15:25.311Z"
   },
   {
    "duration": 5,
    "start_time": "2022-12-18T06:15:25.331Z"
   },
   {
    "duration": 20,
    "start_time": "2022-12-18T06:15:25.338Z"
   },
   {
    "duration": 6,
    "start_time": "2022-12-18T06:15:25.361Z"
   },
   {
    "duration": 25,
    "start_time": "2022-12-18T06:15:25.369Z"
   },
   {
    "duration": 35,
    "start_time": "2022-12-18T06:15:25.395Z"
   },
   {
    "duration": 7,
    "start_time": "2022-12-18T06:15:25.432Z"
   },
   {
    "duration": 15,
    "start_time": "2022-12-18T06:15:25.442Z"
   },
   {
    "duration": 37,
    "start_time": "2022-12-18T06:15:25.459Z"
   },
   {
    "duration": 166,
    "start_time": "2022-12-18T06:15:25.498Z"
   },
   {
    "duration": 4591,
    "start_time": "2022-12-18T06:15:25.667Z"
   },
   {
    "duration": 356,
    "start_time": "2022-12-18T06:15:30.261Z"
   },
   {
    "duration": 6,
    "start_time": "2022-12-18T06:15:30.618Z"
   },
   {
    "duration": 111,
    "start_time": "2022-12-18T06:15:30.626Z"
   },
   {
    "duration": 111,
    "start_time": "2022-12-18T06:15:30.813Z"
   },
   {
    "duration": 0,
    "start_time": "2022-12-18T06:15:30.926Z"
   },
   {
    "duration": 1,
    "start_time": "2022-12-18T06:15:30.927Z"
   },
   {
    "duration": 0,
    "start_time": "2022-12-18T06:15:30.929Z"
   },
   {
    "duration": 0,
    "start_time": "2022-12-18T06:15:30.930Z"
   },
   {
    "duration": 0,
    "start_time": "2022-12-18T06:15:30.932Z"
   },
   {
    "duration": 0,
    "start_time": "2022-12-18T06:15:30.933Z"
   },
   {
    "duration": 0,
    "start_time": "2022-12-18T06:15:30.935Z"
   },
   {
    "duration": 1524,
    "start_time": "2022-12-18T19:05:55.903Z"
   },
   {
    "duration": 175,
    "start_time": "2022-12-18T19:05:58.408Z"
   },
   {
    "duration": 16,
    "start_time": "2022-12-18T19:05:58.832Z"
   },
   {
    "duration": 5,
    "start_time": "2022-12-18T19:06:04.007Z"
   },
   {
    "duration": 11,
    "start_time": "2022-12-18T19:06:07.588Z"
   },
   {
    "duration": 33,
    "start_time": "2022-12-18T19:15:10.486Z"
   },
   {
    "duration": 7,
    "start_time": "2022-12-18T19:17:13.330Z"
   },
   {
    "duration": 4,
    "start_time": "2022-12-18T19:17:38.156Z"
   },
   {
    "duration": 8,
    "start_time": "2022-12-18T19:17:46.316Z"
   },
   {
    "duration": 4,
    "start_time": "2022-12-18T19:34:18.978Z"
   },
   {
    "duration": 38,
    "start_time": "2022-12-18T19:34:19.998Z"
   },
   {
    "duration": 12,
    "start_time": "2022-12-18T19:34:20.402Z"
   },
   {
    "duration": 4,
    "start_time": "2022-12-18T19:34:23.582Z"
   },
   {
    "duration": 11,
    "start_time": "2022-12-18T19:34:24.468Z"
   },
   {
    "duration": 8,
    "start_time": "2022-12-18T19:34:28.381Z"
   },
   {
    "duration": 4,
    "start_time": "2022-12-18T19:34:33.756Z"
   },
   {
    "duration": 10,
    "start_time": "2022-12-18T19:34:35.577Z"
   },
   {
    "duration": 11,
    "start_time": "2022-12-18T19:34:42.212Z"
   },
   {
    "duration": 3,
    "start_time": "2022-12-18T20:07:25.290Z"
   },
   {
    "duration": 37,
    "start_time": "2022-12-18T20:07:26.176Z"
   },
   {
    "duration": 12,
    "start_time": "2022-12-18T20:07:26.563Z"
   },
   {
    "duration": 4,
    "start_time": "2022-12-18T20:07:27.999Z"
   },
   {
    "duration": 16,
    "start_time": "2022-12-18T20:07:31.598Z"
   },
   {
    "duration": 8,
    "start_time": "2022-12-18T20:07:34.118Z"
   },
   {
    "duration": 4,
    "start_time": "2022-12-18T20:07:35.095Z"
   },
   {
    "duration": 9,
    "start_time": "2022-12-18T20:07:35.508Z"
   },
   {
    "duration": 9,
    "start_time": "2022-12-18T20:07:42.056Z"
   },
   {
    "duration": 19,
    "start_time": "2022-12-18T20:07:42.851Z"
   },
   {
    "duration": 5,
    "start_time": "2022-12-18T20:07:48.818Z"
   },
   {
    "duration": 8,
    "start_time": "2022-12-18T20:07:49.202Z"
   },
   {
    "duration": 31,
    "start_time": "2022-12-18T20:07:55.776Z"
   },
   {
    "duration": 129,
    "start_time": "2022-12-18T20:07:59.544Z"
   },
   {
    "duration": 4119,
    "start_time": "2022-12-18T20:08:09.152Z"
   },
   {
    "duration": 255,
    "start_time": "2022-12-18T20:08:17.573Z"
   },
   {
    "duration": 5,
    "start_time": "2022-12-18T20:08:55.902Z"
   },
   {
    "duration": 9,
    "start_time": "2022-12-18T20:08:58.984Z"
   },
   {
    "duration": 95,
    "start_time": "2022-12-18T20:09:02.074Z"
   },
   {
    "duration": 8,
    "start_time": "2022-12-18T20:11:12.357Z"
   },
   {
    "duration": 10,
    "start_time": "2022-12-18T20:42:34.334Z"
   },
   {
    "duration": 24,
    "start_time": "2022-12-18T20:57:22.295Z"
   },
   {
    "duration": 3,
    "start_time": "2022-12-18T20:57:34.202Z"
   },
   {
    "duration": 37,
    "start_time": "2022-12-18T20:57:56.895Z"
   },
   {
    "duration": 11,
    "start_time": "2022-12-18T20:57:57.217Z"
   },
   {
    "duration": 4,
    "start_time": "2022-12-18T20:57:58.212Z"
   },
   {
    "duration": 10,
    "start_time": "2022-12-18T20:57:58.987Z"
   },
   {
    "duration": 7,
    "start_time": "2022-12-18T20:57:59.403Z"
   },
   {
    "duration": 5,
    "start_time": "2022-12-18T20:58:00.160Z"
   },
   {
    "duration": 7,
    "start_time": "2022-12-18T20:58:00.358Z"
   },
   {
    "duration": 9,
    "start_time": "2022-12-18T20:58:02.697Z"
   },
   {
    "duration": 18,
    "start_time": "2022-12-18T20:58:03.540Z"
   },
   {
    "duration": 5,
    "start_time": "2022-12-18T20:58:07.958Z"
   },
   {
    "duration": 7,
    "start_time": "2022-12-18T20:58:08.386Z"
   },
   {
    "duration": 27,
    "start_time": "2022-12-18T20:58:16.531Z"
   },
   {
    "duration": 120,
    "start_time": "2022-12-18T21:00:11.932Z"
   },
   {
    "duration": 7,
    "start_time": "2022-12-18T21:00:56.870Z"
   },
   {
    "duration": 4069,
    "start_time": "2022-12-18T21:03:03.396Z"
   },
   {
    "duration": 39,
    "start_time": "2022-12-18T21:03:15.840Z"
   },
   {
    "duration": 248,
    "start_time": "2022-12-18T21:03:26.679Z"
   },
   {
    "duration": 9,
    "start_time": "2022-12-18T21:03:34.135Z"
   },
   {
    "duration": 5,
    "start_time": "2022-12-18T21:30:20.979Z"
   },
   {
    "duration": 9,
    "start_time": "2022-12-18T21:31:50.566Z"
   },
   {
    "duration": 10,
    "start_time": "2022-12-18T21:31:53.981Z"
   },
   {
    "duration": 170,
    "start_time": "2022-12-18T21:33:06.543Z"
   },
   {
    "duration": 8,
    "start_time": "2022-12-18T21:33:22.021Z"
   },
   {
    "duration": 88,
    "start_time": "2022-12-18T21:35:48.250Z"
   },
   {
    "duration": 10,
    "start_time": "2022-12-18T21:35:49.816Z"
   },
   {
    "duration": 156,
    "start_time": "2022-12-18T21:39:26.471Z"
   },
   {
    "duration": 8,
    "start_time": "2022-12-18T21:39:31.003Z"
   },
   {
    "duration": 86,
    "start_time": "2022-12-18T21:40:00.145Z"
   },
   {
    "duration": 8,
    "start_time": "2022-12-18T21:40:01.365Z"
   },
   {
    "duration": 65,
    "start_time": "2022-12-18T21:42:12.388Z"
   },
   {
    "duration": 1500,
    "start_time": "2022-12-19T01:04:38.413Z"
   },
   {
    "duration": 39,
    "start_time": "2022-12-19T01:04:39.915Z"
   },
   {
    "duration": 16,
    "start_time": "2022-12-19T01:04:39.956Z"
   },
   {
    "duration": 5,
    "start_time": "2022-12-19T01:04:39.973Z"
   },
   {
    "duration": 15,
    "start_time": "2022-12-19T01:04:39.980Z"
   },
   {
    "duration": 8,
    "start_time": "2022-12-19T01:04:39.997Z"
   },
   {
    "duration": 4,
    "start_time": "2022-12-19T01:04:40.007Z"
   },
   {
    "duration": 11,
    "start_time": "2022-12-19T01:04:40.013Z"
   },
   {
    "duration": 11,
    "start_time": "2022-12-19T01:04:40.025Z"
   },
   {
    "duration": 16,
    "start_time": "2022-12-19T01:04:40.037Z"
   },
   {
    "duration": 5,
    "start_time": "2022-12-19T01:04:40.055Z"
   },
   {
    "duration": 8,
    "start_time": "2022-12-19T01:04:40.061Z"
   },
   {
    "duration": 54,
    "start_time": "2022-12-19T01:04:40.071Z"
   },
   {
    "duration": 134,
    "start_time": "2022-12-19T01:04:40.128Z"
   },
   {
    "duration": 7,
    "start_time": "2022-12-19T01:04:40.264Z"
   },
   {
    "duration": 4116,
    "start_time": "2022-12-19T01:04:40.272Z"
   },
   {
    "duration": 43,
    "start_time": "2022-12-19T01:04:44.389Z"
   },
   {
    "duration": 292,
    "start_time": "2022-12-19T01:04:44.434Z"
   },
   {
    "duration": 102,
    "start_time": "2022-12-19T01:04:44.728Z"
   },
   {
    "duration": 91,
    "start_time": "2022-12-19T01:04:44.832Z"
   },
   {
    "duration": 100,
    "start_time": "2022-12-19T01:04:44.926Z"
   },
   {
    "duration": 17,
    "start_time": "2022-12-19T01:04:45.028Z"
   },
   {
    "duration": 196,
    "start_time": "2022-12-19T01:04:45.047Z"
   },
   {
    "duration": 8,
    "start_time": "2022-12-19T01:04:45.245Z"
   },
   {
    "duration": 107,
    "start_time": "2022-12-19T01:04:45.255Z"
   },
   {
    "duration": 8,
    "start_time": "2022-12-19T01:04:45.364Z"
   },
   {
    "duration": 5349,
    "start_time": "2022-12-19T01:04:45.373Z"
   },
   {
    "duration": 43,
    "start_time": "2022-12-19T01:04:50.723Z"
   },
   {
    "duration": 56,
    "start_time": "2022-12-19T01:04:50.767Z"
   },
   {
    "duration": 98,
    "start_time": "2022-12-19T01:04:50.825Z"
   },
   {
    "duration": 1721,
    "start_time": "2022-12-19T10:12:27.767Z"
   },
   {
    "duration": 91,
    "start_time": "2022-12-19T10:12:29.490Z"
   },
   {
    "duration": 20,
    "start_time": "2022-12-19T10:12:29.583Z"
   },
   {
    "duration": 5,
    "start_time": "2022-12-19T10:12:30.570Z"
   },
   {
    "duration": 16,
    "start_time": "2022-12-19T10:12:31.945Z"
   },
   {
    "duration": 12,
    "start_time": "2022-12-19T10:12:34.213Z"
   },
   {
    "duration": 6,
    "start_time": "2022-12-19T10:12:34.995Z"
   },
   {
    "duration": 12,
    "start_time": "2022-12-19T10:12:35.318Z"
   },
   {
    "duration": 11,
    "start_time": "2022-12-19T10:12:38.805Z"
   },
   {
    "duration": 19,
    "start_time": "2022-12-19T10:12:40.774Z"
   },
   {
    "duration": 6,
    "start_time": "2022-12-19T10:12:42.275Z"
   },
   {
    "duration": 9,
    "start_time": "2022-12-19T10:12:44.006Z"
   },
   {
    "duration": 32,
    "start_time": "2022-12-19T10:12:48.252Z"
   },
   {
    "duration": 207,
    "start_time": "2022-12-19T10:12:51.942Z"
   },
   {
    "duration": 14,
    "start_time": "2022-12-19T10:12:56.409Z"
   },
   {
    "duration": 4819,
    "start_time": "2022-12-19T10:14:31.302Z"
   },
   {
    "duration": 42,
    "start_time": "2022-12-19T10:14:42.460Z"
   },
   {
    "duration": 202,
    "start_time": "2022-12-19T10:14:45.021Z"
   },
   {
    "duration": 22,
    "start_time": "2022-12-19T10:14:45.925Z"
   },
   {
    "duration": 7,
    "start_time": "2022-12-19T10:15:02.226Z"
   },
   {
    "duration": 14,
    "start_time": "2022-12-19T10:15:04.540Z"
   },
   {
    "duration": 15,
    "start_time": "2022-12-19T10:15:10.768Z"
   },
   {
    "duration": 217,
    "start_time": "2022-12-19T10:15:16.195Z"
   },
   {
    "duration": 11,
    "start_time": "2022-12-19T10:15:20.723Z"
   },
   {
    "duration": 98,
    "start_time": "2022-12-19T10:15:37.303Z"
   },
   {
    "duration": 9,
    "start_time": "2022-12-19T10:15:40.245Z"
   },
   {
    "duration": 7034,
    "start_time": "2022-12-19T10:17:10.540Z"
   },
   {
    "duration": 60,
    "start_time": "2022-12-19T10:17:20.151Z"
   },
   {
    "duration": 3180,
    "start_time": "2022-12-19T10:17:24.694Z"
   },
   {
    "duration": 50,
    "start_time": "2022-12-19T10:17:30.197Z"
   },
   {
    "duration": 102,
    "start_time": "2022-12-19T10:21:44.719Z"
   },
   {
    "duration": 91,
    "start_time": "2022-12-19T10:21:45.823Z"
   },
   {
    "duration": 19,
    "start_time": "2022-12-19T10:21:47.123Z"
   },
   {
    "duration": 100,
    "start_time": "2022-12-19T10:21:48.912Z"
   },
   {
    "duration": 154,
    "start_time": "2022-12-19T10:56:07.022Z"
   },
   {
    "duration": 128,
    "start_time": "2022-12-19T10:56:08.526Z"
   },
   {
    "duration": 10,
    "start_time": "2022-12-19T10:56:23.382Z"
   },
   {
    "duration": 10,
    "start_time": "2022-12-19T10:58:51.370Z"
   },
   {
    "duration": 9,
    "start_time": "2022-12-19T10:58:56.428Z"
   },
   {
    "duration": 149,
    "start_time": "2022-12-19T11:05:08.163Z"
   },
   {
    "duration": 148,
    "start_time": "2022-12-19T11:12:40.829Z"
   },
   {
    "duration": 139,
    "start_time": "2022-12-19T11:13:21.004Z"
   },
   {
    "duration": 122,
    "start_time": "2022-12-19T11:14:03.455Z"
   },
   {
    "duration": 4680,
    "start_time": "2022-12-19T11:16:36.730Z"
   },
   {
    "duration": 44,
    "start_time": "2022-12-19T11:20:19.703Z"
   },
   {
    "duration": 245,
    "start_time": "2022-12-19T11:21:16.470Z"
   },
   {
    "duration": 130,
    "start_time": "2022-12-19T11:25:06.757Z"
   },
   {
    "duration": 8,
    "start_time": "2022-12-19T11:25:07.573Z"
   },
   {
    "duration": 4643,
    "start_time": "2022-12-19T11:25:11.159Z"
   },
   {
    "duration": 44,
    "start_time": "2022-12-19T11:25:18.326Z"
   },
   {
    "duration": 45,
    "start_time": "2022-12-19T11:25:54.933Z"
   },
   {
    "duration": 15,
    "start_time": "2022-12-19T11:32:49.466Z"
   },
   {
    "duration": 3,
    "start_time": "2022-12-19T11:33:48.662Z"
   },
   {
    "duration": 7,
    "start_time": "2022-12-19T11:33:56.116Z"
   },
   {
    "duration": 12,
    "start_time": "2022-12-19T11:34:27.085Z"
   },
   {
    "duration": 8,
    "start_time": "2022-12-19T11:35:01.805Z"
   },
   {
    "duration": 10,
    "start_time": "2022-12-19T11:37:00.578Z"
   },
   {
    "duration": 9,
    "start_time": "2022-12-19T11:37:05.663Z"
   },
   {
    "duration": 9,
    "start_time": "2022-12-19T11:37:11.130Z"
   },
   {
    "duration": 9,
    "start_time": "2022-12-19T11:42:52.163Z"
   },
   {
    "duration": 7,
    "start_time": "2022-12-19T11:43:11.858Z"
   },
   {
    "duration": 7,
    "start_time": "2022-12-19T11:43:14.702Z"
   },
   {
    "duration": 10,
    "start_time": "2022-12-19T11:44:07.176Z"
   },
   {
    "duration": 10,
    "start_time": "2022-12-19T11:45:44.055Z"
   },
   {
    "duration": 11,
    "start_time": "2022-12-19T11:48:12.900Z"
   },
   {
    "duration": 174,
    "start_time": "2022-12-19T11:54:23.568Z"
   },
   {
    "duration": 174,
    "start_time": "2022-12-19T11:54:30.193Z"
   },
   {
    "duration": 8,
    "start_time": "2022-12-19T11:54:33.779Z"
   },
   {
    "duration": 187,
    "start_time": "2022-12-19T11:55:04.795Z"
   },
   {
    "duration": 87,
    "start_time": "2022-12-19T11:55:25.867Z"
   },
   {
    "duration": 87,
    "start_time": "2022-12-19T11:55:55.119Z"
   },
   {
    "duration": 9,
    "start_time": "2022-12-19T11:56:21.265Z"
   },
   {
    "duration": 6087,
    "start_time": "2022-12-19T11:58:27.357Z"
   },
   {
    "duration": 46,
    "start_time": "2022-12-19T11:59:25.465Z"
   },
   {
    "duration": 3005,
    "start_time": "2022-12-19T12:00:23.726Z"
   },
   {
    "duration": 3011,
    "start_time": "2022-12-19T12:00:40.059Z"
   },
   {
    "duration": 2930,
    "start_time": "2022-12-19T12:00:56.950Z"
   },
   {
    "duration": 42,
    "start_time": "2022-12-19T12:01:29.511Z"
   },
   {
    "duration": 33,
    "start_time": "2022-12-19T12:02:51.268Z"
   },
   {
    "duration": 20,
    "start_time": "2022-12-19T12:03:42.184Z"
   },
   {
    "duration": 12,
    "start_time": "2022-12-19T12:04:19.614Z"
   },
   {
    "duration": 10,
    "start_time": "2022-12-19T12:04:59.594Z"
   },
   {
    "duration": 32,
    "start_time": "2022-12-19T12:05:13.900Z"
   },
   {
    "duration": 9,
    "start_time": "2022-12-19T12:05:16.993Z"
   },
   {
    "duration": 19,
    "start_time": "2022-12-19T12:05:18.672Z"
   },
   {
    "duration": 9,
    "start_time": "2022-12-19T12:05:19.822Z"
   },
   {
    "duration": 11,
    "start_time": "2022-12-19T12:11:00.596Z"
   },
   {
    "duration": 14,
    "start_time": "2022-12-19T12:11:18.581Z"
   },
   {
    "duration": 50,
    "start_time": "2022-12-19T12:14:35.502Z"
   },
   {
    "duration": 1429,
    "start_time": "2022-12-20T05:50:11.918Z"
   },
   {
    "duration": 75,
    "start_time": "2022-12-20T05:50:13.348Z"
   },
   {
    "duration": 14,
    "start_time": "2022-12-20T05:50:13.424Z"
   },
   {
    "duration": 5,
    "start_time": "2022-12-20T05:50:15.338Z"
   },
   {
    "duration": 12,
    "start_time": "2022-12-20T05:50:17.719Z"
   },
   {
    "duration": 10,
    "start_time": "2022-12-20T05:50:19.385Z"
   },
   {
    "duration": 4,
    "start_time": "2022-12-20T05:50:20.444Z"
   },
   {
    "duration": 7,
    "start_time": "2022-12-20T05:50:20.813Z"
   },
   {
    "duration": 10,
    "start_time": "2022-12-20T05:50:24.338Z"
   },
   {
    "duration": 18,
    "start_time": "2022-12-20T05:50:27.477Z"
   },
   {
    "duration": 5,
    "start_time": "2022-12-20T05:50:30.008Z"
   },
   {
    "duration": 9,
    "start_time": "2022-12-20T05:50:30.394Z"
   },
   {
    "duration": 30,
    "start_time": "2022-12-20T05:50:35.406Z"
   },
   {
    "duration": 127,
    "start_time": "2022-12-20T05:50:38.756Z"
   },
   {
    "duration": 9,
    "start_time": "2022-12-20T05:50:39.768Z"
   },
   {
    "duration": 4172,
    "start_time": "2022-12-20T05:50:43.332Z"
   },
   {
    "duration": 38,
    "start_time": "2022-12-20T05:50:48.759Z"
   },
   {
    "duration": 293,
    "start_time": "2022-12-20T05:50:52.636Z"
   },
   {
    "duration": 9,
    "start_time": "2022-12-20T05:50:54.220Z"
   },
   {
    "duration": 10,
    "start_time": "2022-12-20T05:51:02.925Z"
   },
   {
    "duration": 5,
    "start_time": "2022-12-20T05:51:23.358Z"
   },
   {
    "duration": 10,
    "start_time": "2022-12-20T05:51:28.555Z"
   },
   {
    "duration": 10,
    "start_time": "2022-12-20T05:51:34.422Z"
   },
   {
    "duration": 157,
    "start_time": "2022-12-20T05:52:31.223Z"
   },
   {
    "duration": 9,
    "start_time": "2022-12-20T05:52:57.438Z"
   },
   {
    "duration": 77,
    "start_time": "2022-12-20T05:53:07.287Z"
   },
   {
    "duration": 7,
    "start_time": "2022-12-20T05:53:08.352Z"
   },
   {
    "duration": 5477,
    "start_time": "2022-12-20T05:53:32.820Z"
   },
   {
    "duration": 45,
    "start_time": "2022-12-20T05:53:52.942Z"
   },
   {
    "duration": 2524,
    "start_time": "2022-12-20T05:53:57.139Z"
   },
   {
    "duration": 39,
    "start_time": "2022-12-20T05:54:01.430Z"
   },
   {
    "duration": 51,
    "start_time": "2022-12-20T05:54:21.271Z"
   },
   {
    "duration": 12,
    "start_time": "2022-12-20T05:54:28.572Z"
   },
   {
    "duration": 16,
    "start_time": "2022-12-20T05:54:31.667Z"
   },
   {
    "duration": 15,
    "start_time": "2022-12-20T05:54:32.612Z"
   },
   {
    "duration": 13,
    "start_time": "2022-12-20T05:54:36.592Z"
   },
   {
    "duration": 300,
    "start_time": "2022-12-20T06:02:26.342Z"
   },
   {
    "duration": 37,
    "start_time": "2022-12-20T06:02:27.961Z"
   },
   {
    "duration": 5499,
    "start_time": "2022-12-20T06:02:56.575Z"
   },
   {
    "duration": 43,
    "start_time": "2022-12-20T06:03:04.143Z"
   },
   {
    "duration": 297,
    "start_time": "2022-12-20T06:04:08.942Z"
   },
   {
    "duration": 34,
    "start_time": "2022-12-20T06:04:23.258Z"
   },
   {
    "duration": 5530,
    "start_time": "2022-12-20T06:04:52.593Z"
   },
   {
    "duration": 309,
    "start_time": "2022-12-20T06:06:36.836Z"
   },
   {
    "duration": 5509,
    "start_time": "2022-12-20T06:07:17.644Z"
   },
   {
    "duration": 5407,
    "start_time": "2022-12-20T06:08:49.597Z"
   },
   {
    "duration": 5585,
    "start_time": "2022-12-20T06:09:35.193Z"
   },
   {
    "duration": 5559,
    "start_time": "2022-12-20T06:10:41.644Z"
   },
   {
    "duration": 5622,
    "start_time": "2022-12-20T06:11:07.771Z"
   },
   {
    "duration": 5566,
    "start_time": "2022-12-20T06:11:45.838Z"
   },
   {
    "duration": 41,
    "start_time": "2022-12-20T06:11:57.046Z"
   },
   {
    "duration": 341,
    "start_time": "2022-12-20T06:13:13.920Z"
   },
   {
    "duration": 325,
    "start_time": "2022-12-20T06:16:55.758Z"
   },
   {
    "duration": 25,
    "start_time": "2022-12-20T06:18:12.549Z"
   },
   {
    "duration": 4,
    "start_time": "2022-12-20T06:22:12.639Z"
   },
   {
    "duration": 44,
    "start_time": "2022-12-20T06:22:13.020Z"
   },
   {
    "duration": 18,
    "start_time": "2022-12-20T06:22:13.250Z"
   },
   {
    "duration": 5,
    "start_time": "2022-12-20T06:22:13.603Z"
   },
   {
    "duration": 10,
    "start_time": "2022-12-20T06:22:14.681Z"
   },
   {
    "duration": 8,
    "start_time": "2022-12-20T06:22:15.165Z"
   },
   {
    "duration": 4,
    "start_time": "2022-12-20T06:22:16.062Z"
   },
   {
    "duration": 9,
    "start_time": "2022-12-20T06:22:16.458Z"
   },
   {
    "duration": 9,
    "start_time": "2022-12-20T06:22:18.303Z"
   },
   {
    "duration": 17,
    "start_time": "2022-12-20T06:22:19.189Z"
   },
   {
    "duration": 6,
    "start_time": "2022-12-20T06:22:20.707Z"
   },
   {
    "duration": 7,
    "start_time": "2022-12-20T06:22:21.173Z"
   },
   {
    "duration": 42,
    "start_time": "2022-12-20T06:22:25.665Z"
   },
   {
    "duration": 130,
    "start_time": "2022-12-20T06:22:28.224Z"
   },
   {
    "duration": 10,
    "start_time": "2022-12-20T06:22:30.935Z"
   },
   {
    "duration": 4404,
    "start_time": "2022-12-20T06:22:54.592Z"
   },
   {
    "duration": 40,
    "start_time": "2022-12-20T06:23:03.628Z"
   },
   {
    "duration": 195,
    "start_time": "2022-12-20T06:23:09.030Z"
   },
   {
    "duration": 18,
    "start_time": "2022-12-20T06:23:09.990Z"
   },
   {
    "duration": 11,
    "start_time": "2022-12-20T06:23:13.199Z"
   },
   {
    "duration": 7,
    "start_time": "2022-12-20T06:23:25.406Z"
   },
   {
    "duration": 9,
    "start_time": "2022-12-20T06:23:27.519Z"
   },
   {
    "duration": 9,
    "start_time": "2022-12-20T06:23:29.781Z"
   },
   {
    "duration": 191,
    "start_time": "2022-12-20T06:23:32.616Z"
   },
   {
    "duration": 10,
    "start_time": "2022-12-20T06:23:39.266Z"
   },
   {
    "duration": 79,
    "start_time": "2022-12-20T06:23:40.625Z"
   },
   {
    "duration": 8,
    "start_time": "2022-12-20T06:23:42.534Z"
   },
   {
    "duration": 5628,
    "start_time": "2022-12-20T06:23:51.923Z"
   },
   {
    "duration": 43,
    "start_time": "2022-12-20T06:23:59.497Z"
   },
   {
    "duration": 2692,
    "start_time": "2022-12-20T06:24:02.944Z"
   },
   {
    "duration": 2659,
    "start_time": "2022-12-20T06:24:16.332Z"
   },
   {
    "duration": 40,
    "start_time": "2022-12-20T06:24:20.855Z"
   },
   {
    "duration": 93,
    "start_time": "2022-12-20T06:24:36.230Z"
   },
   {
    "duration": 13,
    "start_time": "2022-12-20T06:24:37.253Z"
   },
   {
    "duration": 16,
    "start_time": "2022-12-20T06:24:39.150Z"
   },
   {
    "duration": 9,
    "start_time": "2022-12-20T06:24:39.658Z"
   },
   {
    "duration": 13,
    "start_time": "2022-12-20T06:24:42.259Z"
   },
   {
    "duration": 323,
    "start_time": "2022-12-20T06:24:55.806Z"
   },
   {
    "duration": 21,
    "start_time": "2022-12-20T06:24:57.259Z"
   },
   {
    "duration": 2372,
    "start_time": "2022-12-20T10:55:14.948Z"
   },
   {
    "duration": 97,
    "start_time": "2022-12-20T10:55:17.322Z"
   },
   {
    "duration": 63,
    "start_time": "2022-12-20T10:55:17.421Z"
   },
   {
    "duration": 5,
    "start_time": "2022-12-20T10:55:17.487Z"
   },
   {
    "duration": 16,
    "start_time": "2022-12-20T10:55:17.493Z"
   },
   {
    "duration": 9,
    "start_time": "2022-12-20T10:55:17.510Z"
   },
   {
    "duration": 5,
    "start_time": "2022-12-20T10:55:17.579Z"
   },
   {
    "duration": 9,
    "start_time": "2022-12-20T10:55:17.585Z"
   },
   {
    "duration": 9,
    "start_time": "2022-12-20T10:55:17.596Z"
   },
   {
    "duration": 74,
    "start_time": "2022-12-20T10:55:17.608Z"
   },
   {
    "duration": 5,
    "start_time": "2022-12-20T10:55:17.683Z"
   },
   {
    "duration": 15,
    "start_time": "2022-12-20T10:55:17.689Z"
   },
   {
    "duration": 102,
    "start_time": "2022-12-20T10:55:17.706Z"
   },
   {
    "duration": 282,
    "start_time": "2022-12-20T10:55:17.810Z"
   },
   {
    "duration": 9,
    "start_time": "2022-12-20T10:55:18.094Z"
   },
   {
    "duration": 8800,
    "start_time": "2022-12-20T10:55:18.104Z"
   },
   {
    "duration": 100,
    "start_time": "2022-12-20T10:55:26.906Z"
   },
   {
    "duration": 469,
    "start_time": "2022-12-20T10:55:27.008Z"
   },
   {
    "duration": 106,
    "start_time": "2022-12-20T10:55:27.479Z"
   },
   {
    "duration": 10,
    "start_time": "2022-12-20T10:55:27.677Z"
   },
   {
    "duration": 90,
    "start_time": "2022-12-20T10:55:27.689Z"
   },
   {
    "duration": 13,
    "start_time": "2022-12-20T10:55:27.781Z"
   },
   {
    "duration": 14,
    "start_time": "2022-12-20T10:55:27.795Z"
   },
   {
    "duration": 305,
    "start_time": "2022-12-20T10:55:27.810Z"
   },
   {
    "duration": 62,
    "start_time": "2022-12-20T10:55:28.117Z"
   },
   {
    "duration": 131,
    "start_time": "2022-12-20T10:55:28.181Z"
   },
   {
    "duration": 7,
    "start_time": "2022-12-20T10:55:28.314Z"
   },
   {
    "duration": 11326,
    "start_time": "2022-12-20T10:55:28.380Z"
   },
   {
    "duration": 98,
    "start_time": "2022-12-20T10:55:39.708Z"
   },
   {
    "duration": 5470,
    "start_time": "2022-12-20T10:55:39.808Z"
   },
   {
    "duration": 40,
    "start_time": "2022-12-20T10:55:45.280Z"
   },
   {
    "duration": 104,
    "start_time": "2022-12-20T10:55:45.378Z"
   },
   {
    "duration": 101,
    "start_time": "2022-12-20T10:55:45.484Z"
   },
   {
    "duration": 201,
    "start_time": "2022-12-20T10:55:45.587Z"
   },
   {
    "duration": 101,
    "start_time": "2022-12-20T10:55:45.880Z"
   },
   {
    "duration": 16,
    "start_time": "2022-12-20T10:55:46.077Z"
   },
   {
    "duration": 688,
    "start_time": "2022-12-20T10:55:46.096Z"
   },
   {
    "duration": 21,
    "start_time": "2022-12-20T10:55:46.785Z"
   }
  ],
  "kernelspec": {
   "display_name": "Python 3 (ipykernel)",
   "language": "python",
   "name": "python3"
  },
  "language_info": {
   "codemirror_mode": {
    "name": "ipython",
    "version": 3
   },
   "file_extension": ".py",
   "mimetype": "text/x-python",
   "name": "python",
   "nbconvert_exporter": "python",
   "pygments_lexer": "ipython3",
   "version": "3.9.12"
  },
  "toc": {
   "base_numbering": 1,
   "nav_menu": {},
   "number_sections": true,
   "sideBar": true,
   "skip_h1_title": true,
   "title_cell": "Содержание",
   "title_sidebar": "Contents",
   "toc_cell": true,
   "toc_position": {},
   "toc_section_display": true,
   "toc_window_display": true
  }
 },
 "nbformat": 4,
 "nbformat_minor": 2
}
